{
  "nbformat": 4,
  "nbformat_minor": 0,
  "metadata": {
    "accelerator": "GPU",
    "colab": {
      "name": "Copy of 4.3-EXE-CIFAR-10 Filip Cuda v2.ipynb",
      "provenance": [],
      "collapsed_sections": [],
      "include_colab_link": true
    },
    "kernelspec": {
      "display_name": "Python 3",
      "language": "python",
      "name": "python3"
    },
    "language_info": {
      "codemirror_mode": {
        "name": "ipython",
        "version": 3
      },
      "file_extension": ".py",
      "mimetype": "text/x-python",
      "name": "python",
      "nbconvert_exporter": "python",
      "pygments_lexer": "ipython3",
      "version": "3.7.6"
    }
  },
  "cells": [
    {
      "cell_type": "markdown",
      "metadata": {
        "id": "view-in-github",
        "colab_type": "text"
      },
      "source": [
        "<a href=\"https://colab.research.google.com/github/FilipRenschJacobsen/02456-deep-learning-with-PyTorch/blob/master/Copy_of_4_3_EXE_CIFAR_10_Filip_Cuda_v2.ipynb\" target=\"_parent\"><img src=\"https://colab.research.google.com/assets/colab-badge.svg\" alt=\"Open In Colab\"/></a>"
      ]
    },
    {
      "cell_type": "markdown",
      "metadata": {
        "id": "bu1Wy6Xb81Sn"
      },
      "source": [
        "# Credits\n",
        "\n",
        "This is heavily influenced from https://github.com/pytorch/tutorials\n",
        "\n",
        "Filip Rensch-Jacobsen: Total accuracy obtained 74,64% on the test set"
      ]
    },
    {
      "cell_type": "markdown",
      "metadata": {
        "id": "oZW0gaQO81Sq"
      },
      "source": [
        "# CIFAR-10\n",
        "\n",
        "In thins notebook you need to put what you have learned into practice, and create your own convolutional classifier for the CIFAR-10 dataset.\n",
        "\n",
        "It has the classes: ‘airplane’, ‘automobile’, ‘bird’, ‘cat’, ‘deer’, ‘dog’, ‘frog’, ‘horse’, ‘ship’, ‘truck’.\n",
        "The images in CIFAR-10 are of size 3x32x32, i.e. 3-channel color images of 32x32 pixels in size.\n",
        "\n",
        "![cifar10](https://github.com/DeepLearningDTU/02456-deep-learning-with-PyTorch/blob/master/static_files/cifar10.png?raw=1)\n",
        "\n",
        "\n",
        "In order to train a classifier the following steps needs to be performed:\n",
        "\n",
        "1. Load and normalizing the CIFAR10 training and test datasets using\n",
        "   ``torchvision``\n",
        "2. Define a Convolutional Neural Network\n",
        "3. Define a loss function\n",
        "4. Train the network on the training data\n",
        "5. Test the network on the test data\n",
        "\n",
        "We will help you along the way.\n",
        "We indicate the places you need to modify the code with `# Your code here!`.\n",
        "It is however a good idea to read the entire assignment before you begin coding!"
      ]
    },
    {
      "cell_type": "markdown",
      "metadata": {
        "id": "htyg7xxN81St"
      },
      "source": [
        "## 1. Loading and normalizing CIFAR10\n",
        "\n",
        "Using ``torchvision``, it’s extremely easy to load CIFAR10."
      ]
    },
    {
      "cell_type": "code",
      "metadata": {
        "id": "v3u2GIWr81Su",
        "outputId": "7fbb2ab1-4667-4b38-8157-70c38303d1b1",
        "colab": {
          "base_uri": "https://localhost:8080/",
          "height": 51
        }
      },
      "source": [
        "# I move the imports to the top of the code.. because i like it better this way\n",
        "\n",
        "import torch\n",
        "import torch.nn as nn\n",
        "import torch.nn.functional as F\n",
        "from torch.utils.data import DataLoader\n",
        "import torchvision\n",
        "from torchvision import datasets, transforms\n",
        "from torchvision.utils import make_grid\n",
        "from torch.autograd import Variable\n",
        "import torch.optim as optim\n",
        "\n",
        "import numpy as np\n",
        "import pandas as pd\n",
        "import seaborn as sn  # for heatmaps\n",
        "from sklearn.metrics import confusion_matrix\n",
        "from sklearn.model_selection import train_test_split\n",
        "\n",
        "import matplotlib.pyplot as plt\n",
        "%matplotlib inline"
      ],
      "execution_count": null,
      "outputs": [
        {
          "output_type": "stream",
          "text": [
            "/usr/local/lib/python3.6/dist-packages/statsmodels/tools/_testing.py:19: FutureWarning: pandas.util.testing is deprecated. Use the functions in the public API at pandas.testing instead.\n",
            "  import pandas.util.testing as tm\n"
          ],
          "name": "stderr"
        }
      ]
    },
    {
      "cell_type": "code",
      "metadata": {
        "id": "U7sdeVyTbUHY",
        "outputId": "cba90642-48e1-4873-a3e1-ad0d45ecfa39",
        "colab": {
          "base_uri": "https://localhost:8080/",
          "height": 34
        }
      },
      "source": [
        "# Chaeck if GPU er avialable\n",
        "torch.cuda.is_available()"
      ],
      "execution_count": null,
      "outputs": [
        {
          "output_type": "execute_result",
          "data": {
            "text/plain": [
              "True"
            ]
          },
          "metadata": {
            "tags": []
          },
          "execution_count": 2
        }
      ]
    },
    {
      "cell_type": "code",
      "metadata": {
        "id": "PfluAJBnbUHc",
        "outputId": "ddad44a5-1017-41a8-85a3-a5fd5bdcd1ec",
        "colab": {
          "base_uri": "https://localhost:8080/",
          "height": 34
        }
      },
      "source": [
        "torch.cuda.current_device()"
      ],
      "execution_count": null,
      "outputs": [
        {
          "output_type": "execute_result",
          "data": {
            "text/plain": [
              "0"
            ]
          },
          "metadata": {
            "tags": []
          },
          "execution_count": 3
        }
      ]
    },
    {
      "cell_type": "code",
      "metadata": {
        "id": "EwdgonkjbUHe",
        "outputId": "8ce3b3da-a57f-4717-c032-63b072cacca2",
        "colab": {
          "base_uri": "https://localhost:8080/",
          "height": 35
        }
      },
      "source": [
        "# GPU name\n",
        "torch.cuda.get_device_name(0)"
      ],
      "execution_count": null,
      "outputs": [
        {
          "output_type": "execute_result",
          "data": {
            "application/vnd.google.colaboratory.intrinsic+json": {
              "type": "string"
            },
            "text/plain": [
              "'Tesla T4'"
            ]
          },
          "metadata": {
            "tags": []
          },
          "execution_count": 4
        }
      ]
    },
    {
      "cell_type": "code",
      "metadata": {
        "id": "xgi4AZBfbUHg"
      },
      "source": [
        ""
      ],
      "execution_count": null,
      "outputs": []
    },
    {
      "cell_type": "markdown",
      "metadata": {
        "id": "xx5SHRkm81S0"
      },
      "source": [
        "The output of torchvision datasets are PILImage images of range [0, 1].\n",
        "We transform them to Tensors of normalized range [-1, 1]\n",
        "--------------NB I removed that because i dont understand why it is needed.....-----------\n",
        "\n",
        "**NB** Modify the code below to only use a small part of the dataset if your computer is very slow.\n",
        "-------- Removed that part --------"
      ]
    },
    {
      "cell_type": "code",
      "metadata": {
        "id": "ppzjH2d4bUHj",
        "outputId": "dc8216d3-54fd-4498-f494-a87622df9793",
        "colab": {
          "base_uri": "https://localhost:8080/",
          "height": 51
        }
      },
      "source": [
        "transform = transforms.Compose(\n",
        "    [transforms.ToTensor(),\n",
        "     transforms.Normalize((0.5, 0.5, 0.5),(0.5, 0.5, 0.5))\n",
        "    ]\n",
        ")\n",
        "\n",
        "# Load dataset\n",
        "train_set = torchvision.datasets.CIFAR10(root='./data', train=True, download=True, transform=transform) # Note to self, might be needed to allocate specifically to GPU memory\n",
        "test_set = torchvision.datasets.CIFAR10(root='./data', train=False, download=True, transform=transform)"
      ],
      "execution_count": null,
      "outputs": [
        {
          "output_type": "stream",
          "text": [
            "Files already downloaded and verified\n",
            "Files already downloaded and verified\n"
          ],
          "name": "stdout"
        }
      ]
    },
    {
      "cell_type": "code",
      "metadata": {
        "id": "5BbJN58RbUHm",
        "outputId": "fd030a90-9d42-44bf-d7cd-17d268aee7a7",
        "colab": {
          "base_uri": "https://localhost:8080/",
          "height": 170
        }
      },
      "source": [
        "# show train_set\n",
        "train_set"
      ],
      "execution_count": null,
      "outputs": [
        {
          "output_type": "execute_result",
          "data": {
            "text/plain": [
              "Dataset CIFAR10\n",
              "    Number of datapoints: 50000\n",
              "    Root location: ./data\n",
              "    Split: Train\n",
              "    StandardTransform\n",
              "Transform: Compose(\n",
              "               ToTensor()\n",
              "               Normalize(mean=(0.5, 0.5, 0.5), std=(0.5, 0.5, 0.5))\n",
              "           )"
            ]
          },
          "metadata": {
            "tags": []
          },
          "execution_count": 6
        }
      ]
    },
    {
      "cell_type": "code",
      "metadata": {
        "id": "FjAusGN5bUHo",
        "outputId": "4f05cfc9-583d-4edb-c780-81a8afd5e6ae",
        "colab": {
          "base_uri": "https://localhost:8080/",
          "height": 170
        }
      },
      "source": [
        "# show test_set\n",
        "test_set"
      ],
      "execution_count": null,
      "outputs": [
        {
          "output_type": "execute_result",
          "data": {
            "text/plain": [
              "Dataset CIFAR10\n",
              "    Number of datapoints: 10000\n",
              "    Root location: ./data\n",
              "    Split: Test\n",
              "    StandardTransform\n",
              "Transform: Compose(\n",
              "               ToTensor()\n",
              "               Normalize(mean=(0.5, 0.5, 0.5), std=(0.5, 0.5, 0.5))\n",
              "           )"
            ]
          },
          "metadata": {
            "tags": []
          },
          "execution_count": 7
        }
      ]
    },
    {
      "cell_type": "code",
      "metadata": {
        "id": "2iSqcaN5bUHq"
      },
      "source": [
        ""
      ],
      "execution_count": null,
      "outputs": []
    },
    {
      "cell_type": "code",
      "metadata": {
        "id": "QZeTujLC81S3",
        "outputId": "307667c2-4165-4e78-9b7e-8688619c80db",
        "colab": {
          "base_uri": "https://localhost:8080/",
          "height": 34
        }
      },
      "source": [
        "\n",
        "classes = ('plane', 'car', 'bird', 'cat', 'deer',\n",
        "           'dog', 'frog', 'horse', 'ship', 'truck')\n",
        "\n",
        "used_categories = range(len(classes))\n",
        "\n",
        "torch.manual_seed(42) # To compare results form run to run\n",
        "\n",
        "train_loader = torch.utils.data.DataLoader(train_set, batch_size=10, shuffle=True) #removed num_workers, i dont understand them\n",
        "test_loader = torch.utils.data.DataLoader(test_set, batch_size=10, shuffle=True)\n",
        "\n",
        "train_data_iter = iter(train_loader)\n",
        "test_data_iter = iter(test_loader)\n",
        "print('used classes:', classes)\n"
      ],
      "execution_count": null,
      "outputs": [
        {
          "output_type": "stream",
          "text": [
            "used classes: ('plane', 'car', 'bird', 'cat', 'deer', 'dog', 'frog', 'horse', 'ship', 'truck')\n"
          ],
          "name": "stdout"
        }
      ]
    },
    {
      "cell_type": "code",
      "metadata": {
        "id": "JDHkc52L81S9",
        "outputId": "fbdf4b35-5090-4750-e647-a7eaaa1a24a5",
        "colab": {
          "base_uri": "https://localhost:8080/",
          "height": 170
        }
      },
      "source": [
        "print(\"# Training data\")\n",
        "print(\"Number of points:\", len(train_set))\n",
        "x, y = next(iter(train_loader))\n",
        "print(\"Batch dimension [B x C x H x W]:\", x.shape)\n",
        "print(\"Number of distinct labels:\", len(set(train_set.targets)))\n",
        "\n",
        "\n",
        "print(\"\\n# Test data\")\n",
        "print(\"Number of points:\", len(test_set))\n",
        "x, y = next(iter(test_loader))\n",
        "print(\"Batch dimension [B x C x H x W]:\", x.shape)\n",
        "print(\"Number of distinct labels:\", len(set(test_set.targets)))"
      ],
      "execution_count": null,
      "outputs": [
        {
          "output_type": "stream",
          "text": [
            "# Training data\n",
            "Number of points: 50000\n",
            "Batch dimension [B x C x H x W]: torch.Size([10, 3, 32, 32])\n",
            "Number of distinct labels: 10\n",
            "\n",
            "# Test data\n",
            "Number of points: 10000\n",
            "Batch dimension [B x C x H x W]: torch.Size([10, 3, 32, 32])\n",
            "Number of distinct labels: 10\n"
          ],
          "name": "stdout"
        }
      ]
    },
    {
      "cell_type": "markdown",
      "metadata": {
        "id": "xSA1h94681TB"
      },
      "source": [
        "Let us show some of the training images, for fun.\n",
        "\n"
      ]
    },
    {
      "cell_type": "code",
      "metadata": {
        "id": "njJy0klP81TD",
        "outputId": "5b4e1780-2a57-4eb0-a71e-587fdfdcbf5a",
        "colab": {
          "base_uri": "https://localhost:8080/",
          "height": 154
        }
      },
      "source": [
        "# Run this cell multiple time to see more samples\n",
        "\n",
        "class_names = ['plane', '  car', ' bird', '  cat', ' deer', '  dog', ' frog', 'horse', ' ship', 'truck'] # seperate string list for classes\n",
        "\n",
        "def imshow(img):\n",
        "    \"\"\" show an image \"\"\"\n",
        "    img = img / 2 + 0.5 # unnormalize, not needed when I dont have normalized to begin with\n",
        "    npimg = img.numpy()\n",
        "    plt.imshow(np.transpose(npimg, (1, 2, 0)))\n",
        "\n",
        "\n",
        "# get some random training images\n",
        "images, labels = train_data_iter.next()\n",
        "\n",
        "# show images\n",
        "imshow(torchvision.utils.make_grid(images))\n",
        "\n",
        "# print labels\n",
        "print(' '.join('%4s' % classes[labels[j]] for j in range(10)))"
      ],
      "execution_count": null,
      "outputs": [
        {
          "output_type": "stream",
          "text": [
            "frog bird  cat ship ship truck plane  car horse  car\n"
          ],
          "name": "stdout"
        },
        {
          "output_type": "display_data",
          "data": {
            "image/png": "[encoded data removed]",
            "text/plain": [
              "<Figure size 432x288 with 1 Axes>"
            ]
          },
          "metadata": {
            "tags": [],
            "needs_background": "light"
          }
        }
      ]
    },
    {
      "cell_type": "markdown",
      "metadata": {
        "id": "Wt3BVFMF81TI"
      },
      "source": [
        "## 2. Define a Convolutional Neural Network\n",
        "\n",
        "**Assignment 1:** Define a convolutional neural network. \n",
        "You may use the code from previous notebooks.\n",
        "We suggest that you start with a small network, and make sure that everything is working.\n",
        "Once you can train successfully come back and improve the architecture"
      ]
    },
    {
      "cell_type": "code",
      "metadata": {
        "id": "_EsKbw3o81TK",
        "outputId": "421677ba-3a1f-47ad-d094-60bb0df5c983",
        "colab": {
          "base_uri": "https://localhost:8080/",
          "height": 187
        }
      },
      "source": [
        "\n",
        "class Net(nn.Module):\n",
        "\n",
        "    \n",
        "    def __init__(self, num_classes):\n",
        "        super(Net, self).__init__()\n",
        "        self.num_classes = num_classes\n",
        "        \n",
        "        # Your code here!\n",
        "        self.conv1 = nn.Conv2d(3, 32, 5, 1, padding=2)  \n",
        "        self.conv2 = nn.Conv2d(32, 64, 5, 1, padding=2)\n",
        "        self.conv3 = nn.Conv2d(64, 64, 5, 1, padding=2)\n",
        "        self.fc1 = nn.Linear(4*4*64, 256) #input is defined by kernal sizes, pooling and imagesize ((32-borders+padding)/2)pr layer which is pooled) \n",
        "        self.fc2 = nn.Linear(256,128)\n",
        "        self.fc3 = nn.Linear(128,64)\n",
        "        #self.fc4 = nn.Linear(200,100)\n",
        "        self.fc5 = nn.Linear(64, 10)\n",
        "        \n",
        "        \n",
        "    def forward(self, x):\n",
        "        # Your code here!\n",
        "        x = F.rrelu(self.conv1(x))\n",
        "        x = F.max_pool2d(x, 2, 2) # pool size defined as 2x2, with max defining output\n",
        "        x = F.rrelu(self.conv2(x))\n",
        "        x = F.max_pool2d(x, 2, 2) # pool size defined as 2x2, with max defining output\n",
        "        x = F.rrelu(self.conv3(x))\n",
        "        x = F.max_pool2d(x, 2, 2) # pool size defined as 2x2, with max defining output\n",
        "        x = x.view(-1, 4*4*64) # matching by kernal sizes, pooling and imagesize to fit into the NN layer\n",
        "        x = F.rrelu(self.fc1(x))\n",
        "        x = F.rrelu(self.fc2(x))\n",
        "        x = F.rrelu(self.fc3(x))\n",
        "        #x = F.rrelu(self.fc4(x))\n",
        "        x = self.fc5(x)\n",
        "        return F.log_softmax(x, dim=1)\n",
        "\n",
        "torch.manual_seed(42)\n",
        "np.random.seed(42)\n",
        "net = Net(len(used_categories))\n",
        "print(net)\n",
        "next(net.parameters()).is_cuda"
      ],
      "execution_count": null,
      "outputs": [
        {
          "output_type": "stream",
          "text": [
            "Net(\n",
            "  (conv1): Conv2d(3, 32, kernel_size=(5, 5), stride=(1, 1), padding=(2, 2))\n",
            "  (conv2): Conv2d(32, 64, kernel_size=(5, 5), stride=(1, 1), padding=(2, 2))\n",
            "  (conv3): Conv2d(64, 64, kernel_size=(5, 5), stride=(1, 1), padding=(2, 2))\n",
            "  (fc1): Linear(in_features=1024, out_features=256, bias=True)\n",
            "  (fc2): Linear(in_features=256, out_features=128, bias=True)\n",
            "  (fc3): Linear(in_features=128, out_features=64, bias=True)\n",
            "  (fc5): Linear(in_features=64, out_features=10, bias=True)\n",
            ")\n"
          ],
          "name": "stdout"
        },
        {
          "output_type": "execute_result",
          "data": {
            "text/plain": [
              "False"
            ]
          },
          "metadata": {
            "tags": []
          },
          "execution_count": 13
        }
      ]
    },
    {
      "cell_type": "code",
      "metadata": {
        "id": "o30AfUOkbUH7"
      },
      "source": [
        "#send the model to GPU\n",
        "gpumodel = net.cuda()"
      ],
      "execution_count": null,
      "outputs": []
    },
    {
      "cell_type": "code",
      "metadata": {
        "id": "x2uxP50rbUH8",
        "outputId": "03654433-6385-42ce-f2cf-005abbf29fcd",
        "colab": {
          "base_uri": "https://localhost:8080/",
          "height": 34
        }
      },
      "source": [
        "#test if it is cuda\n",
        "next(net.parameters()).is_cuda"
      ],
      "execution_count": null,
      "outputs": [
        {
          "output_type": "execute_result",
          "data": {
            "text/plain": [
              "True"
            ]
          },
          "metadata": {
            "tags": []
          },
          "execution_count": 15
        }
      ]
    },
    {
      "cell_type": "markdown",
      "metadata": {
        "id": "7-IUg3sq81TQ"
      },
      "source": [
        "## 3. Define a Loss function and optimizer\n",
        "\n",
        "**Assignment 2:** Implement the criterion and optimizer. \n",
        "We suggest Classification Cross-Entropy loss and SGD with momentum.\n",
        "You might need to experiment a bit with the learning rate."
      ]
    },
    {
      "cell_type": "code",
      "metadata": {
        "id": "48AX85QP81TR"
      },
      "source": [
        "criterion = nn.CrossEntropyLoss()  # Your code here!\n",
        "optimizer = torch.optim.Adam(net.parameters(), lr=0.001, weight_decay=1e-6)  # Your code here!"
      ],
      "execution_count": null,
      "outputs": []
    },
    {
      "cell_type": "code",
      "metadata": {
        "id": "IHTk7OHBbUID"
      },
      "source": [
        "#Used to look at number of parameters in the model\n",
        "\n",
        "def count_parameters(net):\n",
        "    params = [p.numel() for p in net.parameters() if p.requires_grad]\n",
        "    for item in params:\n",
        "        print(f'{item:>6}')\n",
        "    print(f'______\\n{sum(params):>6}')"
      ],
      "execution_count": null,
      "outputs": []
    },
    {
      "cell_type": "code",
      "metadata": {
        "id": "6uBsoSnJbUIE",
        "outputId": "d4a90d4e-b320-4b48-cca1-6835e99bb976",
        "colab": {
          "base_uri": "https://localhost:8080/",
          "height": 289
        }
      },
      "source": [
        "count_parameters(net)"
      ],
      "execution_count": null,
      "outputs": [
        {
          "output_type": "stream",
          "text": [
            "  2400\n",
            "    32\n",
            " 51200\n",
            "    64\n",
            "102400\n",
            "    64\n",
            "262144\n",
            "   256\n",
            " 32768\n",
            "   128\n",
            "  8192\n",
            "    64\n",
            "   640\n",
            "    10\n",
            "______\n",
            "460362\n"
          ],
          "name": "stdout"
        }
      ]
    },
    {
      "cell_type": "markdown",
      "metadata": {
        "id": "-WneIN7C81TV"
      },
      "source": [
        "## 4. Train the network\n",
        "\n",
        "**Assignment 3:** Finish the training loop below. \n",
        "Start by using a small number of epochs (e.g. 3).\n",
        "Even with a low number of epochs you should be able to see results that are better than chance.\n",
        "When everything is working increase the number of epochs to find out how good your network really is."
      ]
    },
    {
      "cell_type": "code",
      "metadata": {
        "id": "NkUanRRb81TW",
        "outputId": "407c2ced-44f2-4029-d486-eef03706a866",
        "colab": {
          "base_uri": "https://localhost:8080/",
          "height": 1000
        }
      },
      "source": [
        "# Your code here!\n",
        "\n",
        "torch.manual_seed(42)\n",
        "np.random.seed(42)\n",
        "\n",
        "num_epoch = 12   #Warning, it will take some time to run 12 epochs!!!\n",
        "\n",
        "#evaluation variables\n",
        "\n",
        "train_losses = []\n",
        "test_losses = []\n",
        "train_correct = []\n",
        "test_correct = []\n",
        "\n",
        "\n",
        "for epoch in range(num_epoch):  # loop over the dataset multiple times\n",
        "\n",
        "    trn_corr = 0\n",
        "    tst_corr = 0\n",
        "    \n",
        "    # Run the training batches\n",
        "    for b, (X_train, y_train) in enumerate(train_loader):\n",
        "        b+=1\n",
        "        \n",
        "        # Apply the model\n",
        "        y_pred = net(X_train.cuda())    #Sending train data through the model\n",
        "        loss = criterion(y_pred.cuda(), y_train.cuda())    #calculating the loss between predicts and labels\n",
        " \n",
        "        # Tally the number of correct predictions\n",
        "        predicted = torch.max(y_pred.data, 1)[1]\n",
        "        batch_corr = (predicted == y_train.cuda()).sum()\n",
        "        trn_corr += batch_corr\n",
        "        \n",
        "        \n",
        "        # Update parameters\n",
        "        optimizer.zero_grad()\n",
        "        loss.backward()\n",
        "        optimizer.step()\n",
        "        \n",
        "        # Print interim results\n",
        "        if b%1000 == 0:\n",
        "            print(f'epoch: {epoch:2}  batch: {b:4} [{10*b:6}/50000]  loss: {loss.item():10.8f}  \\\n",
        "accuracy: {trn_corr.item()*100/(10*b):7.3f}%')\n",
        "        \n",
        "    train_losses.append(loss)\n",
        "    train_correct.append(trn_corr)\n",
        "        \n",
        "    # Run the testing batches\n",
        "    with torch.no_grad():\n",
        "        for b, (X_test, y_test) in enumerate(test_loader):\n",
        "\n",
        "            # Apply the model\n",
        "            y_val = net(X_test.cuda())\n",
        "\n",
        "            # Tally the number of correct predictions\n",
        "            predicted = torch.max(y_val.data, 1)[1] \n",
        "            tst_corr += (predicted == y_test.cuda()).sum()\n",
        "            \n",
        "    loss = criterion(y_val.cuda(), y_test.cuda())\n",
        "    test_losses.append(loss)\n",
        "    test_correct.append(tst_corr)   \n",
        "\n",
        "print('Finished Training')"
      ],
      "execution_count": null,
      "outputs": [
        {
          "output_type": "stream",
          "text": [
            "epoch:  0  batch: 1000 [ 10000/50000]  loss: 1.55709434  accuracy:  32.190%\n",
            "epoch:  0  batch: 2000 [ 20000/50000]  loss: 0.99189997  accuracy:  39.470%\n",
            "epoch:  0  batch: 3000 [ 30000/50000]  loss: 1.11091673  accuracy:  44.327%\n",
            "epoch:  0  batch: 4000 [ 40000/50000]  loss: 1.04931509  accuracy:  48.032%\n",
            "epoch:  0  batch: 5000 [ 50000/50000]  loss: 1.61263430  accuracy:  50.876%\n",
            "epoch:  1  batch: 1000 [ 10000/50000]  loss: 1.04648471  accuracy:  66.030%\n",
            "epoch:  1  batch: 2000 [ 20000/50000]  loss: 1.08245575  accuracy:  66.235%\n",
            "epoch:  1  batch: 3000 [ 30000/50000]  loss: 1.22255993  accuracy:  66.780%\n",
            "epoch:  1  batch: 4000 [ 40000/50000]  loss: 0.96874171  accuracy:  67.213%\n",
            "epoch:  1  batch: 5000 [ 50000/50000]  loss: 0.90032655  accuracy:  67.664%\n",
            "epoch:  2  batch: 1000 [ 10000/50000]  loss: 1.40282881  accuracy:  73.490%\n",
            "epoch:  2  batch: 2000 [ 20000/50000]  loss: 0.72317010  accuracy:  73.290%\n",
            "epoch:  2  batch: 3000 [ 30000/50000]  loss: 1.49112248  accuracy:  73.373%\n",
            "epoch:  2  batch: 4000 [ 40000/50000]  loss: 0.46352178  accuracy:  73.450%\n",
            "epoch:  2  batch: 5000 [ 50000/50000]  loss: 0.75369138  accuracy:  73.430%\n",
            "epoch:  3  batch: 1000 [ 10000/50000]  loss: 0.90876448  accuracy:  76.840%\n",
            "epoch:  3  batch: 2000 [ 20000/50000]  loss: 0.70737439  accuracy:  76.780%\n",
            "epoch:  3  batch: 3000 [ 30000/50000]  loss: 0.75058186  accuracy:  76.783%\n",
            "epoch:  3  batch: 4000 [ 40000/50000]  loss: 0.10005329  accuracy:  76.610%\n",
            "epoch:  3  batch: 5000 [ 50000/50000]  loss: 1.05839229  accuracy:  76.514%\n",
            "epoch:  4  batch: 1000 [ 10000/50000]  loss: 0.94234657  accuracy:  80.850%\n",
            "epoch:  4  batch: 2000 [ 20000/50000]  loss: 0.26119643  accuracy:  80.065%\n",
            "epoch:  4  batch: 3000 [ 30000/50000]  loss: 0.25618646  accuracy:  79.843%\n",
            "epoch:  4  batch: 4000 [ 40000/50000]  loss: 0.46467119  accuracy:  79.918%\n",
            "epoch:  4  batch: 5000 [ 50000/50000]  loss: 0.70665908  accuracy:  79.806%\n",
            "epoch:  5  batch: 1000 [ 10000/50000]  loss: 0.66156048  accuracy:  83.230%\n",
            "epoch:  5  batch: 2000 [ 20000/50000]  loss: 0.37138018  accuracy:  82.770%\n",
            "epoch:  5  batch: 3000 [ 30000/50000]  loss: 0.02336194  accuracy:  82.833%\n",
            "epoch:  5  batch: 4000 [ 40000/50000]  loss: 0.56251323  accuracy:  82.555%\n",
            "epoch:  5  batch: 5000 [ 50000/50000]  loss: 0.24868004  accuracy:  82.250%\n",
            "epoch:  6  batch: 1000 [ 10000/50000]  loss: 0.83513749  accuracy:  85.370%\n",
            "epoch:  6  batch: 2000 [ 20000/50000]  loss: 0.41350096  accuracy:  84.825%\n",
            "epoch:  6  batch: 3000 [ 30000/50000]  loss: 0.67488313  accuracy:  84.267%\n",
            "epoch:  6  batch: 4000 [ 40000/50000]  loss: 1.20528293  accuracy:  84.105%\n",
            "epoch:  6  batch: 5000 [ 50000/50000]  loss: 0.61348903  accuracy:  83.840%\n",
            "epoch:  7  batch: 1000 [ 10000/50000]  loss: 0.38937369  accuracy:  87.020%\n",
            "epoch:  7  batch: 2000 [ 20000/50000]  loss: 0.26816508  accuracy:  86.685%\n",
            "epoch:  7  batch: 3000 [ 30000/50000]  loss: 0.07497746  accuracy:  86.300%\n",
            "epoch:  7  batch: 4000 [ 40000/50000]  loss: 0.39129043  accuracy:  86.078%\n",
            "epoch:  7  batch: 5000 [ 50000/50000]  loss: 0.29922184  accuracy:  85.784%\n",
            "epoch:  8  batch: 1000 [ 10000/50000]  loss: 0.20706126  accuracy:  88.860%\n",
            "epoch:  8  batch: 2000 [ 20000/50000]  loss: 0.01850682  accuracy:  87.880%\n",
            "epoch:  8  batch: 3000 [ 30000/50000]  loss: 0.05577594  accuracy:  87.540%\n",
            "epoch:  8  batch: 4000 [ 40000/50000]  loss: 0.36251658  accuracy:  87.453%\n",
            "epoch:  8  batch: 5000 [ 50000/50000]  loss: 0.14616340  accuracy:  87.214%\n",
            "epoch:  9  batch: 1000 [ 10000/50000]  loss: 0.14341308  accuracy:  90.370%\n",
            "epoch:  9  batch: 2000 [ 20000/50000]  loss: 0.35266942  accuracy:  89.565%\n",
            "epoch:  9  batch: 3000 [ 30000/50000]  loss: 1.07199037  accuracy:  89.223%\n",
            "epoch:  9  batch: 4000 [ 40000/50000]  loss: 0.27345249  accuracy:  88.805%\n",
            "epoch:  9  batch: 5000 [ 50000/50000]  loss: 0.29040474  accuracy:  88.416%\n",
            "epoch: 10  batch: 1000 [ 10000/50000]  loss: 0.25910589  accuracy:  91.390%\n",
            "epoch: 10  batch: 2000 [ 20000/50000]  loss: 0.06869281  accuracy:  90.445%\n",
            "epoch: 10  batch: 3000 [ 30000/50000]  loss: 0.65970689  accuracy:  90.113%\n",
            "epoch: 10  batch: 4000 [ 40000/50000]  loss: 0.52928317  accuracy:  89.888%\n",
            "epoch: 10  batch: 5000 [ 50000/50000]  loss: 0.31720772  accuracy:  89.642%\n",
            "epoch: 11  batch: 1000 [ 10000/50000]  loss: 0.03180645  accuracy:  91.870%\n",
            "epoch: 11  batch: 2000 [ 20000/50000]  loss: 0.01366267  accuracy:  91.090%\n",
            "epoch: 11  batch: 3000 [ 30000/50000]  loss: 0.58496964  accuracy:  91.030%\n",
            "epoch: 11  batch: 4000 [ 40000/50000]  loss: 0.29204997  accuracy:  90.662%\n",
            "epoch: 11  batch: 5000 [ 50000/50000]  loss: 0.99536008  accuracy:  90.460%\n",
            "Finished Training\n"
          ],
          "name": "stdout"
        }
      ]
    },
    {
      "cell_type": "markdown",
      "metadata": {
        "id": "0qAsbC8I81Ta"
      },
      "source": [
        "## 5. Test the network on the test data\n",
        "\n",
        "Now we need to check if the network has learnt anything at all.\n",
        "We will check this by predicting the class label that the neural network outputs, and checking it against the ground truth.\n",
        "If the prediction is correct, we add the sample to the list of correct predictions.\n",
        "\n",
        "Okay, first step. Let us display an image from the test set to get familiar.\n",
        "\n",
        "-----------The following are my own test functions---------"
      ]
    },
    {
      "cell_type": "code",
      "metadata": {
        "id": "wEjADY6WbUIP",
        "outputId": "a717cc4b-8891-4a8c-fae3-664839a69a3f",
        "colab": {
          "base_uri": "https://localhost:8080/",
          "height": 88
        }
      },
      "source": [
        "print(test_correct) # contains the correct results of all epochs\n",
        "print()\n",
        "print(f'Test accuracy: {test_correct[-1].item()*100/10000:.3f}%') # prints corrects on test sample"
      ],
      "execution_count": null,
      "outputs": [
        {
          "output_type": "stream",
          "text": [
            "[tensor(6410, device='cuda:0'), tensor(6887, device='cuda:0'), tensor(7164, device='cuda:0'), tensor(7156, device='cuda:0'), tensor(7104, device='cuda:0'), tensor(7422, device='cuda:0'), tensor(7407, device='cuda:0'), tensor(7333, device='cuda:0'), tensor(7378, device='cuda:0'), tensor(7421, device='cuda:0'), tensor(7387, device='cuda:0'), tensor(7463, device='cuda:0')]\n",
            "\n",
            "Test accuracy: 74.630%\n"
          ],
          "name": "stdout"
        }
      ]
    },
    {
      "cell_type": "code",
      "metadata": {
        "id": "ShPJwSY_mHDT",
        "outputId": "bc9688e6-0a7b-4d22-d146-421248f5a6ab",
        "colab": {
          "base_uri": "https://localhost:8080/",
          "height": 34
        }
      },
      "source": [
        "tst_corr"
      ],
      "execution_count": null,
      "outputs": [
        {
          "output_type": "execute_result",
          "data": {
            "text/plain": [
              "tensor(7463, device='cuda:0')"
            ]
          },
          "metadata": {
            "tags": []
          },
          "execution_count": 21
        }
      ]
    },
    {
      "cell_type": "code",
      "metadata": {
        "id": "v1EnoTuDbUIS",
        "outputId": "4153681a-e06c-43dc-ede5-34cefe84592e",
        "colab": {
          "base_uri": "https://localhost:8080/",
          "height": 405
        }
      },
      "source": [
        "# Confusion matrix to see where errors occurr on test set\n",
        "\n",
        "# Create a loader for the entire the test set\n",
        "\n",
        "net.to('cpu') # sending the model back to CPU\n",
        "\n",
        "batch_size=10000\n",
        "test_load_all = DataLoader(test_set, batch_size=10000, shuffle=False)\n",
        "\n",
        "with torch.no_grad(): #dont change the gradiant in this loop\n",
        "    correct = 0 #reset the number of correct predictions\n",
        "    for X_test, y_test in test_load_all:\n",
        "        y_val = net(X_test)\n",
        "        predicted = torch.max(y_val,1)[1] # save the predictitions in predicted\n",
        "        correct += (predicted == y_test).sum() # +1 when predictied are == label\n",
        "\n",
        "arr = confusion_matrix(y_test.view(-1), predicted.view(-1))\n",
        "df_cm = pd.DataFrame(arr, class_names, class_names)\n",
        "plt.figure(figsize = (9,6))\n",
        "sn.heatmap(df_cm, annot=True, fmt=\"d\", cmap='BuGn')\n",
        "plt.xlabel(\"prediction\")\n",
        "plt.ylabel(\"label (ground truth)\")\n",
        "plt.show();\n",
        "print(f\"total predicted: {len(predicted)} total correct predicted: {correct}\")"
      ],
      "execution_count": null,
      "outputs": [
        {
          "output_type": "display_data",
          "data": {
            "image/png": "[encoded data removed]",
            "text/plain": [
              "<Figure size 648x432 with 2 Axes>"
            ]
          },
          "metadata": {
            "tags": [],
            "needs_background": "light"
          }
        },
        {
          "output_type": "stream",
          "text": [
            "total predicted: 10000 total correct predicted: 7464\n"
          ],
          "name": "stdout"
        }
      ]
    },
    {
      "cell_type": "code",
      "metadata": {
        "id": "7LT0RoAC81Tc"
      },
      "source": [
        "#Does not work for me, for some strange reason\n",
        "\n",
        "#images, labels = test_data_iter.next()\n",
        "#images, labels = Variable(images.cuda()), Variable(labels.cuda())\n",
        "\n",
        "# print images\n",
        "#imshow(torchvision.utils.make_grid(images.cpu()))\n",
        "#plt.figure(figsize=(12,4))\n",
        "#plt.show()\n",
        "\n",
        "#print('GroundTruth:  ', ' '.join('%5s' % classes[labels[j]] for j in range(10)))\n",
        "\n",
        "#predicted = torch.max(outputs.data,1)\n",
        "#print('Predicted:    ', ' '.join('%5s' % classes[predicted[j]] for j in range(10)))"
      ],
      "execution_count": null,
      "outputs": []
    },
    {
      "cell_type": "markdown",
      "metadata": {
        "id": "ISA6LJJO81Tg"
      },
      "source": [
        "Let us look at how the network performs on the whole dataset."
      ]
    },
    {
      "cell_type": "code",
      "metadata": {
        "id": "Smv6_BwF81Ti",
        "outputId": "a38741e4-7faa-470a-fd3b-f5e039be6df3",
        "colab": {
          "base_uri": "https://localhost:8080/",
          "height": 34
        }
      },
      "source": [
        "correct = 0\n",
        "total = 0\n",
        "\n",
        "for data in test_loader:\n",
        "    images, labels = data\n",
        "    outputs = net(Variable(images))\n",
        "    _, predicted = torch.max(outputs.data, 1)\n",
        "    total += labels.size(0)\n",
        "    correct += (predicted == labels).sum()\n",
        "print(f\"{correct} correct out of {total}\")\n",
        "#print('Accuracy of the network on the {} test images: {:4.2f} %'.format(test_set.data.shape[0], 100 * correct / total))"
      ],
      "execution_count": null,
      "outputs": [
        {
          "output_type": "stream",
          "text": [
            "7464 correct out of 10000\n"
          ],
          "name": "stdout"
        }
      ]
    },
    {
      "cell_type": "markdown",
      "metadata": {
        "id": "QMZRvhaW81Tl"
      },
      "source": [
        "Hopefully the network is better than chance, which is $\\frac{1}{\\text{number of classes}}$ accuracy (randomly picking\n",
        "a class).\n",
        "\n",
        "\n",
        "We can also examine which class the network found the most difficult (makes more sense if you have many clases):"
      ]
    },
    {
      "cell_type": "code",
      "metadata": {
        "id": "WqVTQgKq81Tl",
        "outputId": "83a7ab5b-d727-43da-87bc-73cba7dcef59"
      },
      "source": [
        "class_total = list(0. for i in range(len(classes)))\n",
        "class_correct = list(0. for i in range(len(classes)))\n",
        "\n",
        "for data in test_loader:\n",
        "    images, labels = data\n",
        "    outputs = net(Variable(images))\n",
        "    _, predicted = torch.max(outputs.data, 1)\n",
        "    c = (predicted == labels).squeeze()\n",
        "    \n",
        "    for i in range(len(c)):\n",
        "        label = labels[i]\n",
        "        class_correct[label] += c[i].numpy()\n",
        "        class_total[label] += 1\n",
        "\n",
        "for i in range(len(classes)):\n",
        "    print('Accuracy of {:5s} : {:5.2f} %'.format(\n",
        "        classes[i], 100 * class_correct[i] / class_total[i]))"
      ],
      "execution_count": null,
      "outputs": [
        {
          "output_type": "stream",
          "text": [
            "Accuracy of plane : 78.50 %\n",
            "Accuracy of car   : 80.50 %\n",
            "Accuracy of bird  : 54.50 %\n",
            "Accuracy of cat   : 53.80 %\n",
            "Accuracy of deer  : 68.00 %\n",
            "Accuracy of dog   : 47.60 %\n",
            "Accuracy of frog  : 76.40 %\n",
            "Accuracy of horse : 72.00 %\n",
            "Accuracy of ship  : 81.50 %\n",
            "Accuracy of truck : 78.50 %\n"
          ],
          "name": "stdout"
        }
      ]
    },
    {
      "cell_type": "markdown",
      "metadata": {
        "id": "ocnQOBAl81Tn"
      },
      "source": [
        "**Assignment 4:** \n",
        "1. Go back and improve performance of the network. \n",
        " * If you are using all 10 classes you should get a test accuracy above 55%, but see how much further you can get it!\n",
        " * If you are using only 2 classes (e.g. cat and dog) you should get a test accuracy above 60%, but see how much further you can get it!\n",
        "\n",
        "2. Briefly describe what you did and any experiments you did along the way as well as what results you obtained.\n",
        "Did anything surprise you during the exercise?\n",
        "\n",
        "3. Write down key lessons/insights you got (if any) during this exercise.\n",
        "\n",
        "**Answer:**\n",
        "I ended up with an accuracy on the test set of 74,64%\n",
        "\n",
        "These are the steps I took:\n",
        "\n",
        "Changed my activation from .relu to .rrelu improved from 61% to 65% on new pics\n",
        "\n",
        "Added another Conv. layer (in 16- out 16.. jumps between epochs, but in the same epochs, not much learning... much slower!! and accuracy dropped from 65% to 62%\n",
        "\n",
        "moved the Conv. layer, added a liniar nn layer, changed to 200-100-50-10 in the layers.. accuracy went to 67%\n",
        "\n",
        "changed linar layers activation function to elu.. went from 67% to 66%\n",
        "\n",
        "lowered learning rate to 0,0001 accuracy dropped to 53%\n",
        "upped learning rate to 0,01 accuracy dropped to 45%\n",
        "Learning rate 0.0009 = 65%\n",
        "learning rate 0.002 = 65%\n",
        "\n",
        "added another linear layer and added more nodes so i went 300, 200, 100, 10 \n",
        "\n",
        "Add back normalization of the dataset (i took it out because i didnt understod what it did... and actually to my surprices accuracy improved to 68,5%\n",
        "\n",
        "tried smaller kernal size.. accuracy dropped to 67%\n",
        "\n",
        "tried dropou on NN layers, accuracy dropped to 66%\n",
        "weight_decay= 0.001 = 67,7%\n",
        "\n",
        "Final steps to get the high accuracy:\n",
        "\n",
        "3 Conv layers, added way more channels so I ended up with 32 -> 64 -> 64 channels on my conv layers + i upped the kernal size from 3 to 5\n",
        "\n",
        "4 linear layers going from 256, 128, 64, 10 nodes\n",
        "\n",
        "What did I learn? \n",
        "\n",
        "I had to few output channels in my convelutional layers\n",
        "Activation functions matters quite a lot\n",
        "There are small gains to find with the right learning rates, weight decays etc. \n",
        "Dropout dont work on convelutional layers.. I dont know why..."
      ]
    },
    {
      "cell_type": "markdown",
      "metadata": {
        "id": "8Nzefavy81To"
      },
      "source": [
        "# Training on GPU\n",
        "\n",
        "**Optional Assignment:**\n",
        "If you have a GPU we suggest that you try and rewrite the code above to run on the GPU\n",
        "___\n",
        "\n",
        "Just like how you transfer a Tensor on to the GPU, you transfer the neural net onto the GPU.\n",
        "This will recursively go over all modules and convert their parameters and buffers to CUDA tensors:\n",
        "\n",
        "```\n",
        "    net.cuda()\n",
        "```\n",
        "\n",
        "Remember that you will have to send the inputs and targets at every step to the GPU too:\n",
        "\n",
        "```\n",
        "    inputs, labels = Variable(inputs.cuda()), Variable(labels.cuda())\n",
        "```\n",
        "\n",
        "Why dont I notice MASSIVE speedup compared to CPU? \n",
        "Because your network is realllly small.\n",
        "\n",
        "**Exercise:** Try increasing the width of your network (argument 2 of\n",
        "the first ``nn.Conv2d``, and argument 1 of the second ``nn.Conv2d`` –\n",
        "they need to be the same number), see what kind of speedup you get.\n",
        "\n",
        "**Goals achieved**:\n",
        "\n",
        "- Understanding PyTorch's Tensor library and neural networks at a high level.\n",
        "- Train a small neural network to classify images\n",
        "\n",
        "\n"
      ]
    },
    {
      "cell_type": "markdown",
      "metadata": {
        "id": "b8mEIylU81Tp"
      },
      "source": [
        "# Michael Nielsen book exercise of own choice\n",
        "\n",
        "**Assignment 5:** Pick an exercise of own choice from [Michael Nielsens book](http://neuralnetworksanddeeplearning.com/)\n",
        "\n",
        "**Answer:**\n",
        "\n",
        "\n",
        "\n"
      ]
    }
  ]
}